{
 "cells": [
  {
   "cell_type": "code",
   "execution_count": 19,
   "metadata": {},
   "outputs": [],
   "source": [
    "import pyarrow as pa\n",
    "import pyarrow.parquet as pq\n",
    "import pandas as pd"
   ]
  },
  {
   "cell_type": "code",
   "execution_count": 20,
   "metadata": {},
   "outputs": [],
   "source": [
    "# Load the Parquet file into a DataFrame\n",
    "parquet_file = pq.read_table('data/nyt_data.parquet').to_pandas()"
   ]
  },
  {
   "cell_type": "code",
   "execution_count": 21,
   "metadata": {},
   "outputs": [],
   "source": [
    "# Define the start and end years\n",
    "start_year = 1990\n",
    "end_year = 2020\n",
    "\n",
    "# Create a boolean mask to filter rows within the specified year range\n",
    "year_mask = (parquet_file['year'] >= start_year) & (parquet_file['year'] <= end_year)\n",
    "\n",
    "# Apply the mask to get the filtered DataFrame\n",
    "filtered_df = parquet_file[year_mask]"
   ]
  },
  {
   "cell_type": "code",
   "execution_count": 22,
   "metadata": {},
   "outputs": [
    {
     "name": "stdout",
     "output_type": "stream",
     "text": [
      "          year                                              title  \\\n",
      "12975250  1990  LEAD: A listing headed ''On the Air'' in Sport...   \n",
      "12975251  1990  LEAD: Colombian guerrillas today freed Scott H...   \n",
      "12975252  1990  LEAD: The ecstatic hero's welcome given Nelson...   \n",
      "12975253  1990  LEAD: ''WHEN you challenge nature, you are a r...   \n",
      "12975254  1990  LEAD: Donald Trump was put on an allowance las...   \n",
      "\n",
      "                                                    excerpt  \n",
      "12975250  broadcast information appears today on page 43...  \n",
      "12975251                                                     \n",
      "12975252                                                     \n",
      "12975253                                                     \n",
      "12975254                                                     \n"
     ]
    }
   ],
   "source": [
    "print(filtered_df.head())"
   ]
  },
  {
   "cell_type": "code",
   "execution_count": 23,
   "metadata": {},
   "outputs": [
    {
     "name": "stdout",
     "output_type": "stream",
     "text": [
      "          year                                              title  \\\n",
      "12975250  1990  LEAD: A listing headed ''On the Air'' in Sport...   \n",
      "12975251  1990  LEAD: Colombian guerrillas today freed Scott H...   \n",
      "12975252  1990  LEAD: The ecstatic hero's welcome given Nelson...   \n",
      "12975253  1990  LEAD: ''WHEN you challenge nature, you are a r...   \n",
      "12975254  1990  LEAD: Donald Trump was put on an allowance las...   \n",
      "12975255  1990  LEAD: ANGEL FALLS. By Paul Guernsey. (Simon & ...   \n",
      "12975256  1990  LEAD: To the Editor: Don't Let Japan Open a Pi...   \n",
      "12975257  1990  LEAD: On Friday, a Superior Court grand jury i...   \n",
      "12975258  1990  LEAD: Carolyn Manchester Baker, a daughter of ...   \n",
      "12975259  1990  LEAD: Riding golf carts is common practice in ...   \n",
      "\n",
      "                                                    excerpt  \n",
      "12975250  broadcast information appears today on page 43...  \n",
      "12975251                                                     \n",
      "12975252                                                     \n",
      "12975253                                                     \n",
      "12975254                                                     \n",
      "12975255                                            FICTION  \n",
      "12975256                                                     \n",
      "12975257  Dino Ciccarelli, a 30-year-old right wing, and...  \n",
      "12975258                                                     \n",
      "12975259        No-Cart Rule Finding Supporters and Critics  \n"
     ]
    }
   ],
   "source": [
    "# Display the first 10 rows\n",
    "print(filtered_df.head(10))"
   ]
  },
  {
   "cell_type": "code",
   "execution_count": 24,
   "metadata": {},
   "outputs": [
    {
     "name": "stdout",
     "output_type": "stream",
     "text": [
      "          year                                              title excerpt\n",
      "17370903  2020  As Perry gathers evidence, a clearer picture o...        \n",
      "17370904  2020  He challenged redlining banks, employers who d...        \n",
      "17370905  2020  House Republicans are on the defensive in subu...        \n",
      "17370906  2020  A singer, songwriter and producer, Mr. Víctor ...        \n",
      "17370907  2020  Casual connections with people we encounter in...        \n",
      "17370908  2020  The pandemic has inspired a flurry of new and ...        \n",
      "17370909  2020  And what else you need to know today. Georgia’...        \n",
      "17370910  2020  In major global cities where the pandemic has ...        \n",
      "17370911  2020  Quotation of the Day for Sunday, August 2, 202...        \n",
      "17370912  2020  Mixed reaction to the news that Maj. Gen. Qass...        \n"
     ]
    }
   ],
   "source": [
    "print(filtered_df.tail(10))"
   ]
  },
  {
   "cell_type": "code",
   "execution_count": 25,
   "metadata": {},
   "outputs": [],
   "source": [
    "# Write the filtered DataFrame to a new Parquet file\n",
    "filtered_table = pa.Table.from_pandas(filtered_df)\n",
    "pq.write_table(filtered_table, 'nyt_1990_2020_data.parquet')"
   ]
  }
 ],
 "metadata": {
  "kernelspec": {
   "display_name": "Python 3",
   "language": "python",
   "name": "python3"
  },
  "language_info": {
   "codemirror_mode": {
    "name": "ipython",
    "version": 3
   },
   "file_extension": ".py",
   "mimetype": "text/x-python",
   "name": "python",
   "nbconvert_exporter": "python",
   "pygments_lexer": "ipython3",
   "version": "3.9.7"
  }
 },
 "nbformat": 4,
 "nbformat_minor": 2
}
